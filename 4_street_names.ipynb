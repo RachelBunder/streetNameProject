{
 "cells": [
  {
   "cell_type": "code",
   "execution_count": 2,
   "metadata": {
    "collapsed": true,
    "jupyter": {
     "outputs_hidden": true
    }
   },
   "outputs": [],
   "source": [
    "import pandas as pd\n",
    "import geopandas as gpd\n",
    "import matplotlib.pyplot as plt\n",
    "\n",
    "import shapely\n",
    "%matplotlib inline"
   ]
  },
  {
   "cell_type": "markdown",
   "metadata": {},
   "source": [
    "# What is a steet name?\n",
    "Now that we have streets sorted, we need to work out what part is the *name*. The most common full street name may be \"Small Street\", but I now want to separate the name, *Small*, from its desriptor *Street*."
   ]
  },
  {
   "cell_type": "code",
   "execution_count": 3,
   "metadata": {
    "collapsed": true,
    "jupyter": {
     "outputs_hidden": true
    }
   },
   "outputs": [
    {
     "data": {
      "text/plain": [
       "0                    1\n",
       "1          10th avenue\n",
       "2          12th avenue\n",
       "3    12th avenue north\n",
       "4          12th street\n",
       "Name: name, dtype: object"
      ]
     },
     "execution_count": 3,
     "metadata": {},
     "output_type": "execute_result"
    }
   ],
   "source": [
    "streets = pd.read_csv(\"clean_streets_reduced.csv\")\n",
    "streets['name'].head()"
   ]
  },
  {
   "cell_type": "markdown",
   "metadata": {},
   "source": [
    "## Attempt 1\n",
    "Lets keep it simple to start of with: the first part of the street name is the *name* an "
   ]
  },
  {
   "cell_type": "code",
   "execution_count": 6,
   "metadata": {},
   "outputs": [
    {
     "data": {
      "text/plain": [
       "street_name\n",
       "the        247\n",
       "st         108\n",
       "park        95\n",
       "william     73\n",
       "john        70\n",
       "Name: id, dtype: int64"
      ]
     },
     "execution_count": 6,
     "metadata": {},
     "output_type": "execute_result"
    }
   ],
   "source": [
    "def get_name1(full_name):\n",
    "    '''Gets the name of the street: full name minus the last word.'''\n",
    "\n",
    "    \n",
    "    split_name = full_name.split()\n",
    "    return split_name[0]\n",
    "\n",
    "streets[\"street_name\"] = streets[\"name\"].apply(get_name1)\n",
    "streets.groupby(\"street_name\")[\"id\"].count().sort_values(ascending=False).head()"
   ]
  },
  {
   "cell_type": "markdown",
   "metadata": {},
   "source": [
    "And the most common name is \"the\". As in \"*The* Avenue\", \"*The* Grand Parade\" or \"*The* Serpentine\". In my mind \"The\" is an integral part of the street name. The whole name should be *The Avenue*, *The Grand Parade* or *The Serpentine*. \n",
    "\n",
    "The second most common is \"st\" as in \"St. Mark Close\" or \"St. Thomas Road\". In these cases I think the names should be \"St. Mark\" or \"St. Thomas\". \n",
    "\n",
    "Let's revise that funciton. If the name starts with \"The\" the full name is its name. Otherwise it will return everything other than the last word in the name:\n"
   ]
  },
  {
   "cell_type": "code",
   "execution_count": 9,
   "metadata": {},
   "outputs": [
    {
     "data": {
      "text/plain": [
       "street_name\n",
       "park        92\n",
       "            69\n",
       "victoria    60\n",
       "railway     56\n",
       "william     54\n",
       "Name: id, dtype: int64"
      ]
     },
     "execution_count": 9,
     "metadata": {},
     "output_type": "execute_result"
    }
   ],
   "source": [
    "def get_name2(full_name):\n",
    "   '''Gets the name of the street: full name minus the last word.\n",
    "    Unless the full name starts with \"the\", then return the full_name\n",
    " '''\n",
    "    \n",
    "    split_name = full_name.split()\n",
    "    if split_name[0]=='the':\n",
    "        return full_name\n",
    "    else:\n",
    "        return ' '.join(split_name[:-1])\n",
    "\n",
    "streets[\"street_name\"] = streets[\"name\"].apply(get_name2)\n",
    "streets.groupby(\"street_name\")[\"id\"].count().sort_values(ascending=False).head()"
   ]
  },
  {
   "cell_type": "markdown",
   "metadata": {},
   "source": [
    "\"Park\" is now the most common - which sounds about right. But <blank> is the second most commmon. These are streets with only a single word like \"Broardway\" or \"Kingsway\". Lets do another revision: now if the full name is only one word, return that word:"
   ]
  },
  {
   "cell_type": "code",
   "execution_count": 14,
   "metadata": {},
   "outputs": [
    {
     "data": {
      "text/plain": [
       "street_name\n",
       "park        92\n",
       "victoria    60\n",
       "railway     56\n",
       "william     54\n",
       "short       53\n",
       "Name: id, dtype: int64"
      ]
     },
     "execution_count": 14,
     "metadata": {},
     "output_type": "execute_result"
    }
   ],
   "source": [
    "def get_name3(full_name):\n",
    " '''Gets the name of the street: full name minus the last word.\n",
    "    Unless the full name starts with \"the\" or is a single word,\n",
    "    then return the full_name.\n",
    "  '''\n",
    "    \n",
    "    split_name = full_name.split()\n",
    "    if len(split_name)==1:\n",
    "        return full_name\n",
    "    if split_name[0]=='the':\n",
    "        return full_name\n",
    "    else:\n",
    "        return ' '.join(split_name[:-1])\n",
    "\n",
    "streets[\"street_name\"] = streets[\"name\"].apply(get_name3)\n",
    "streets.groupby(\"street_name\")[\"id\"].count().sort_values(ascending=False).head()\n"
   ]
  },
  {
   "cell_type": "markdown",
   "metadata": {},
   "source": [
    "This looks fine! Lets look at what the descriptor would look like. For this, I'm just taking what is left after the name:"
   ]
  },
  {
   "cell_type": "code",
   "execution_count": 24,
   "metadata": {},
   "outputs": [
    {
     "data": {
      "text/plain": [
       "street_description\n",
       "street       12755\n",
       "place         6359\n",
       "avenue        5862\n",
       "road          4345\n",
       "lane          2228\n",
       "close         1732\n",
       "crescent      1626\n",
       "drive          969\n",
       "way            841\n",
       "court          672\n",
       "parade         461\n",
       "circuit        389\n",
       "grove          286\n",
       "terrace        103\n",
       "offramp         97\n",
       "onramp          80\n",
       "glen            57\n",
       "boulevard       55\n",
       "north           55\n",
       "south           50\n",
       "Name: id, dtype: int64"
      ]
     },
     "execution_count": 24,
     "metadata": {},
     "output_type": "execute_result"
    }
   ],
   "source": [
    "def get_description(full_name):\n",
    "     '''Gets the description of the street: the last word of the\n",
    "    full name, unless the full name starts with \"the\" or is a single word,\n",
    "    then return None.\n",
    "    '''\n",
    "    \n",
    "    split_name = full_name.split()\n",
    "    if len(split_name)==1:\n",
    "        return None\n",
    "    if split_name[0]=='the':\n",
    "        return None\n",
    "    else:\n",
    "        return split_name[-1]\n",
    "\n",
    "streets[\"street_description\"] = streets[\"name\"].apply(get_description)\n",
    "streets.groupby(\"street_description\")[\"id\"].count().sort_values(ascending=False).head(20)\n"
   ]
  },
  {
   "cell_type": "markdown",
   "metadata": {},
   "source": [
    "This mostly looks ok, but then we see descriptions like 'north' and 'south' which aren't what I orignally intended. Also \"offramp\" and \"onramp\". Those steret names are things like \"Bathurt street offramp\". I don't want the name to be \"Bathurst street\" and the descriptor \"offramp\". I rather the name be *Bathurst*, and the descriptor be *street offramp*. \n",
    "\n",
    "At this point I thought that I could identify all the street descriptors, identify where in the full name the descriptor would be. Then everything before the descriptor would be the name, and everything other would be an optional suffix.\n",
    "\n",
    "This did not work. For one there was more descriptors than I thought - 192 for the Sydney data test I've been testing with. Including typos like \"roaw\" and \"avenur\". Then I realised that there are streets whose name is also a descriptor: Park Lane is common, but there is also Grove Avenue, Terrace Lane and many many more. \n",
    "\n",
    "I could have started to do something fancy like \"identify the last occurace of the descriptor and everything before is the name and everything after is a suffix\", but it just seemed too much. Maintaining a list of descriptors takes time, especially when I'm doing it over a larger area than Sydney.\n",
    "\n",
    "Intead, I decided to focus on just the main suffixes: North, East, South, West, Offramp, Onramp and exit. If these appear at the end of the full street name I'll mark them as a suffix, otherwise I will stick to the same logic in `get_name2`"
   ]
  },
  {
   "cell_type": "code",
   "execution_count": 26,
   "metadata": {},
   "outputs": [
    {
     "data": {
      "text/plain": [
       "street_name\n",
       "park         93\n",
       "victoria     66\n",
       "railway      57\n",
       "william      57\n",
       "short        53\n",
       "king         50\n",
       "albert       50\n",
       "station      49\n",
       "george       47\n",
       "church       47\n",
       "stanley      44\n",
       "james        44\n",
       "charles      43\n",
       "campbell     42\n",
       "edward       42\n",
       "wentworth    40\n",
       "john         40\n",
       "elizabeth    39\n",
       "gordon       39\n",
       "arthur       39\n",
       "Name: id, dtype: int64"
      ]
     },
     "execution_count": 26,
     "metadata": {},
     "output_type": "execute_result"
    }
   ],
   "source": [
    "def three_name_model(name):\n",
    "    suffixes = [\"north\", \"east\", \"south\", \"west\", \"offramp\", \"onramp\", \"exit\"]\n",
    "    \n",
    "    split = name.split()\n",
    "    \n",
    "    suffix = None\n",
    "    descriptor = None\n",
    "    street_name = None\n",
    "    \n",
    "    if len(split) == 1:\n",
    "        street_name = name\n",
    "    else:\n",
    "        # If the last word in the name is a recognised suffix\n",
    "        if len(split) > 2 and split[-1] in suffixes:\n",
    "            suffix = split[-1]\n",
    "            split = split[:-1]\n",
    "        \n",
    "        if split[0] == 'the':\n",
    "            street_name = name\n",
    "            descriptor = split[-1]\n",
    "        else:\n",
    "            descriptor = split[-1]\n",
    "            street_name = \" \".join(split[:-1])\n",
    "     \n",
    "    return street_name, descriptor, suffix\n",
    "    \n",
    "streets[\"street_name\"], streets[\"street_description\"], streets[\"street_suffix\"] = zip(*streets[\"name\"].map(three_name_model))\n",
    "streets.groupby(\"street_name\")[\"id\"].count().sort_values(ascending=False).head(20)\n"
   ]
  },
  {
   "cell_type": "markdown",
   "metadata": {},
   "source": [
    "The street names still appear fine"
   ]
  },
  {
   "cell_type": "code",
   "execution_count": 28,
   "metadata": {},
   "outputs": [
    {
     "data": {
      "text/plain": [
       "street_description\n",
       "street        12860\n",
       "place          6362\n",
       "avenue         5924\n",
       "road           4485\n",
       "lane           2242\n",
       "close          1733\n",
       "crescent       1651\n",
       "drive           989\n",
       "way             848\n",
       "court           672\n",
       "parade          472\n",
       "circuit         392\n",
       "grove           293\n",
       "terrace         105\n",
       "boulevard        63\n",
       "glen             58\n",
       "motorway         53\n",
       "highway          32\n",
       "square           29\n",
       "row              27\n",
       "boulevarde       22\n",
       "walk             22\n",
       "esplanade        21\n",
       "gardens          21\n",
       "bridge           17\n",
       "parkway          17\n",
       "mews             16\n",
       "circle           15\n",
       "m7               15\n",
       "rise             14\n",
       "glade            14\n",
       "green            12\n",
       "loop             12\n",
       "promenade        11\n",
       "ridge            11\n",
       "bay              11\n",
       "link              9\n",
       "trail             8\n",
       "tunnel            8\n",
       "park              7\n",
       "Name: id, dtype: int64"
      ]
     },
     "execution_count": 28,
     "metadata": {},
     "output_type": "execute_result"
    }
   ],
   "source": [
    "streets.groupby(\"street_description\")[\"id\"].count().sort_values(ascending=False).head(40)"
   ]
  },
  {
   "cell_type": "markdown",
   "metadata": {},
   "source": [
    "The descriptors also mostly appear fine. There is an appearance of \"M7\" which is a major highway which has many onramps, offramps and exits. But as we want to fine the most common street *name*, not so much the descriptor, this isn't a problem. "
   ]
  },
  {
   "cell_type": "code",
   "execution_count": 29,
   "metadata": {},
   "outputs": [
    {
     "data": {
      "text/plain": [
       "street_suffix\n",
       "offramp    99\n",
       "onramp     80\n",
       "north      55\n",
       "south      50\n",
       "west       46\n",
       "east       44\n",
       "exit       21\n",
       "Name: id, dtype: int64"
      ]
     },
     "execution_count": 29,
     "metadata": {},
     "output_type": "execute_result"
    }
   ],
   "source": [
    "streets.groupby(\"street_suffix\")[\"id\"].count().sort_values(ascending=False)"
   ]
  },
  {
   "cell_type": "markdown",
   "metadata": {},
   "source": [
    "And finally our suffixes. Pleasingly the cardinal directions have similar occurances. It also makes sense that there are more offramps than onramps as highways start somewhere (so don't need an on-ramp) and you don't want more input into your road than output. "
   ]
  },
  {
   "cell_type": "markdown",
   "metadata": {},
   "source": [
    "# The most common street name in Sydney\n"
   ]
  },
  {
   "cell_type": "markdown",
   "metadata": {},
   "source": [
    "Finally, the most comomn street name in Sydney is \"Park\", followed by \"Vitoria\", \"Railway\", \"William\" and \"Short\". Most suburbs in Sydney would have at least one Park, subsequently many also have a Park Road (most often). Even in Sydney CBD there is a Park Road that goes in between Hyde Park. \n",
    "\n",
    "Many of the other street names are related to royalty: Victoria, King, Albert and Alfred (Victoria's second son who actually visited Sydney). William and George were also names of Kings, but they were also common first names. \n",
    "\n",
    "A few names relate to early Australian coloinal history:\n",
    " * __[Wentworth](https://en.wikipedia.org/wiki/William_Wentworth)__, an explorer (also could be his __[father](https://en.wikipedia.org/wiki/D%27Arcy_Wentworth)__, the first paying passenger to come to the colony)\n",
    " * __[Hunter](https://en.wikipedia.org/wiki/John_Hunter_(Royal_Navy_officer))__ the second govenor of the colony\n",
    " * __[Cook](https://en.wikipedia.org/wiki/James_Cook)__: Captain Cook claimed the east coast of Australia for the British\n",
    " * __[Macquarie](https://en.wikipedia.org/wiki/Lachlan_Macquarie)__: the fifth govenor of the colony\n",
    " * __[Mitchell](https://en.wikipedia.org/wiki/Thomas_Mitchell_(explorer))__: an explorer\n"
   ]
  },
  {
   "cell_type": "code",
   "execution_count": 30,
   "metadata": {},
   "outputs": [
    {
     "data": {
      "text/plain": [
       "street_name\n",
       "park          93\n",
       "victoria      66\n",
       "railway       57\n",
       "william       57\n",
       "short         53\n",
       "king          50\n",
       "albert        50\n",
       "station       49\n",
       "george        47\n",
       "church        47\n",
       "stanley       44\n",
       "james         44\n",
       "charles       43\n",
       "campbell      42\n",
       "edward        42\n",
       "wentworth     40\n",
       "john          40\n",
       "elizabeth     39\n",
       "gordon        39\n",
       "arthur        39\n",
       "hunter        38\n",
       "smith         37\n",
       "carrington    37\n",
       "cross         37\n",
       "boronia       36\n",
       "mary          36\n",
       "rose          36\n",
       "margaret      35\n",
       "cook          34\n",
       "first         34\n",
       "west          34\n",
       "waratah       34\n",
       "macquarie     34\n",
       "mitchell      34\n",
       "york          33\n",
       "rawson        33\n",
       "thomas        33\n",
       "second        32\n",
       "wattle        32\n",
       "western       32\n",
       "bridge        31\n",
       "alfred        31\n",
       "russell       31\n",
       "pine          31\n",
       "francis       31\n",
       "phillip       30\n",
       "young         30\n",
       "hill          30\n",
       "nelson        30\n",
       "bellevue      30\n",
       "Name: id, dtype: int64"
      ]
     },
     "execution_count": 30,
     "metadata": {},
     "output_type": "execute_result"
    }
   ],
   "source": [
    "streets.groupby(\"street_name\")[\"id\"].count().sort_values(ascending=False).head(50)\n"
   ]
  },
  {
   "cell_type": "markdown",
   "metadata": {},
   "source": [
    "My original motivation for this was the most common street names for many states in the USA are plant names like Cedar or Oak. I didn't think we did this in Australia - so I set out to find out. At least in Sydney, we see some plant names in the top 50:  __[Boronia](https://en.wikipedia.org/wiki/Boronia)__, https://en.wikipedia.org/wiki/Rose (although I think more likely to be a name), __[Waratah](https://en.wikipedia.org/wiki/Waratah)__ (NSW state emblem), __[Wattle](https://en.wikipedia.org/wiki/Acacia_sensu_lato)__ (National flower of Australia) and Pine. Pine is really interesting as I don't think there are native pine trees in Sydney. Perhaps named after Norfolk pines which were introduced to Sydney early on. \n",
    "\n",
    "But, they are no where close to being the most common. Sure, this data is only for Sydney, but I doubt it will change when we look at the whole nation. Flora is diverse in Australia. Boronias and wattles are more or less nation wide, but Waratahs are only in the south east. Introduced pines are nation wide, but are mostly in state forests without many streets. And different states will then add their own native plants to the mix. A state may have a plant name as the most common street name, but I doubt there will be many in the top 10 street names nation wide. \n",
    "\n"
   ]
  }
 ],
 "metadata": {
  "anaconda-cloud": {},
  "kernelspec": {
   "display_name": "Python 3",
   "language": "python",
   "name": "python3"
  },
  "language_info": {
   "codemirror_mode": {
    "name": "ipython",
    "version": 3
   },
   "file_extension": ".py",
   "mimetype": "text/x-python",
   "name": "python",
   "nbconvert_exporter": "python",
   "pygments_lexer": "ipython3",
   "version": "3.7.6"
  }
 },
 "nbformat": 4,
 "nbformat_minor": 4
}